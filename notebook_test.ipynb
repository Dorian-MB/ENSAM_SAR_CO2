{
 "cells": [
  {
   "cell_type": "code",
   "execution_count": 1,
   "id": "59d35703",
   "metadata": {},
   "outputs": [],
   "source": [
    "import pandas as pd\n",
    "from solver.optimizer import Optimizer\n",
    "from solver.or_tool import CpModel\n",
    "from eco2_normandy.tools import get_simlulation_variable"
   ]
  },
  {
   "cell_type": "code",
   "execution_count": 2,
   "id": "31b94efd",
   "metadata": {},
   "outputs": [
    {
     "name": "stderr",
     "output_type": "stream",
     "text": [
      "\u001b[1mDEBUG\u001b[0m :\t\u001b[95m# Éval n°1/5\u001b[39m:\n",
      "\t-ship:4-ship-capa:20000-speed:12\n",
      "\t-storge:1\n",
      "\n",
      "\u001b[1mDEBUG\u001b[0m :\t\u001b[32m→ Coût total combiné = 668,667,900 €\n",
      "\t→ production gaspillée = 0 m^3\n",
      "\t→ Temps d'attente total = 2,369 s\n",
      "\t→ Taux de remplissage de l'usine = 99.52%\n",
      "\u001b[39m\n",
      "\n",
      "\u001b[1mDEBUG\u001b[0m :\t\u001b[95m# Éval n°2/5\u001b[39m:\n",
      "\t-ship:3-ship-capa:20000-speed:12\n",
      "\t-storge:1\n",
      "\n",
      "\u001b[1mDEBUG\u001b[0m :\t\u001b[32m→ Coût total combiné = 532,433,500 €\n",
      "\t→ production gaspillée = 0 m^3\n",
      "\t→ Temps d'attente total = 2,301 s\n",
      "\t→ Taux de remplissage de l'usine = 99.53%\n",
      "\u001b[39m\n",
      "\n",
      "\u001b[1mDEBUG\u001b[0m :\t\u001b[95m# Éval n°3/5\u001b[39m:\n",
      "\t-ship:2-ship-capa:20000-speed:12\n",
      "\t-storge:1\n",
      "\n",
      "\u001b[1mDEBUG\u001b[0m :\t\u001b[32m→ Coût total combiné = 396,149,800 €\n",
      "\t→ production gaspillée = 0 m^3\n",
      "\t→ Temps d'attente total = 2,290 s\n",
      "\t→ Taux de remplissage de l'usine = 99.53%\n",
      "\u001b[39m\n",
      "\n",
      "\u001b[1mDEBUG\u001b[0m :\t\u001b[95m# Éval n°4/5\u001b[39m:\n",
      "\t-ship:1-ship-capa:20000-speed:12\n",
      "\t-storge:1\n",
      "\n"
     ]
    },
    {
     "name": "stdout",
     "output_type": "stream",
     "text": [
      "KPI list [{'cost': np.float64(668667900.0), 'wasted_production_over_time': np.float64(0.0), 'waiting_time': np.float64(2369.0), 'underfill_rate': np.float64(0.995154289834174)}, {'cost': np.float64(532433500.0), 'wasted_production_over_time': np.float64(0.0), 'waiting_time': np.float64(2301.0), 'underfill_rate': np.float64(0.9952751742369618)}, {'cost': np.float64(396149800.0), 'wasted_production_over_time': np.float64(0.0), 'waiting_time': np.float64(2290.0), 'underfill_rate': np.float64(0.99529800528719)}]\n",
      "Besofre normalize {'cost': np.float64(396149800.0), 'wasted_production_over_time': np.float64(0.0), 'waiting_time': np.float64(2290.0), 'underfill_rate': np.float64(0.99529800528719)}\n",
      "Normalize {'cost': np.float64(0.25000000068180767), 'wasted_production_over_time': 0.0}\n"
     ]
    },
    {
     "name": "stderr",
     "output_type": "stream",
     "text": [
      "\u001b[1mDEBUG\u001b[0m :\t\u001b[32m→ Coût total combiné = 269,117,388 €\n",
      "\t→ production gaspillée = 142,733 m^3\n",
      "\t→ Temps d'attente total = 900 s\n",
      "\t→ Taux de remplissage de l'usine = 21.42%\n",
      "\u001b[39m\n",
      "\n",
      "\u001b[1mDEBUG\u001b[0m :\t\u001b[95m# Éval n°5/5\u001b[39m:\n",
      "\t-ship:4-ship-capa:20000-speed:12\n",
      "\t-storge:1\n",
      "\n"
     ]
    },
    {
     "name": "stdout",
     "output_type": "stream",
     "text": [
      "KPI list [{'cost': np.float64(668667900.0), 'wasted_production_over_time': np.float64(0.0), 'waiting_time': np.float64(2369.0), 'underfill_rate': np.float64(0.995154289834174)}, {'cost': np.float64(532433500.0), 'wasted_production_over_time': np.float64(0.0), 'waiting_time': np.float64(2301.0), 'underfill_rate': np.float64(0.9952751742369618)}, {'cost': np.float64(396149800.0), 'wasted_production_over_time': np.float64(0.0), 'waiting_time': np.float64(2290.0), 'underfill_rate': np.float64(0.99529800528719)}, {'cost': np.float64(269117387.67123294), 'wasted_production_over_time': np.float64(142732.8767123295), 'waiting_time': np.int64(900), 'underfill_rate': np.float64(0.21420163422254224)}]\n",
      "Besofre normalize {'cost': np.float64(269117387.67123294), 'wasted_production_over_time': np.float64(142732.8767123295), 'waiting_time': np.int64(900), 'underfill_rate': np.float64(0.21420163422254224)}\n",
      "Normalize {'cost': np.float64(0.23158538730111522), 'wasted_production_over_time': np.float64(0.6666666666666666), 'waiting_time': np.float64(0.24591089590263532), 'underfill_rate': np.float64(0.15456688143571484)}\n"
     ]
    },
    {
     "name": "stderr",
     "output_type": "stream",
     "text": [
      "\u001b[1mDEBUG\u001b[0m :\t\u001b[33mSolution 5 dominée par le front de pareto, on passe a la suivante.\u001b[39m\n",
      "\n",
      "\u001b[1mDEBUG\u001b[0m :\t\u001b[95m# Éval n°5/5\u001b[39m:\n",
      "\t-ship:4-ship-capa:20000-speed:12\n",
      "\t-storge:1\n",
      "\n"
     ]
    },
    {
     "name": "stdout",
     "output_type": "stream",
     "text": [
      "KPI list [{'cost': np.float64(668667900.0), 'wasted_production_over_time': np.float64(0.0), 'waiting_time': np.float64(2369.0), 'underfill_rate': np.float64(0.995154289834174)}, {'cost': np.float64(532433500.0), 'wasted_production_over_time': np.float64(0.0), 'waiting_time': np.float64(2301.0), 'underfill_rate': np.float64(0.9952751742369618)}, {'cost': np.float64(396149800.0), 'wasted_production_over_time': np.float64(0.0), 'waiting_time': np.float64(2290.0), 'underfill_rate': np.float64(0.99529800528719)}, {'cost': np.float64(269117387.67123294), 'wasted_production_over_time': np.float64(142732.8767123295), 'waiting_time': np.int64(900), 'underfill_rate': np.float64(0.21420163422254224)}, {'cost': np.float64(667962375.0), 'wasted_production_over_time': np.float64(0.0), 'waiting_time': np.float64(2368.0), 'underfill_rate': np.float64(0.9950605623648155)}]\n",
      "Besofre normalize {'cost': np.float64(667962375.0), 'wasted_production_over_time': np.float64(0.0), 'waiting_time': np.float64(2368.0), 'underfill_rate': np.float64(0.9950605623648155)}\n",
      "Normalize {'cost': np.float64(0.7660589442012906), 'wasted_production_over_time': 0.0, 'waiting_time': np.float64(0.7665409719031359), 'underfill_rate': np.float64(0.7400587060288855)}\n"
     ]
    },
    {
     "name": "stderr",
     "output_type": "stream",
     "text": [
      "\u001b[1mDEBUG\u001b[0m :\t\u001b[33mSolution 6 dominée par le front de pareto, on passe a la suivante.\u001b[39m\n",
      "\n",
      "\u001b[1mDEBUG\u001b[0m :\t\u001b[95m# Éval n°5/5\u001b[39m:\n",
      "\t-ship:4-ship-capa:20000-speed:12\n",
      "\t-storge:1\n",
      "\n"
     ]
    },
    {
     "name": "stdout",
     "output_type": "stream",
     "text": [
      "KPI list [{'cost': np.float64(668667900.0), 'wasted_production_over_time': np.float64(0.0), 'waiting_time': np.float64(2369.0), 'underfill_rate': np.float64(0.995154289834174)}, {'cost': np.float64(532433500.0), 'wasted_production_over_time': np.float64(0.0), 'waiting_time': np.float64(2301.0), 'underfill_rate': np.float64(0.9952751742369618)}, {'cost': np.float64(396149800.0), 'wasted_production_over_time': np.float64(0.0), 'waiting_time': np.float64(2290.0), 'underfill_rate': np.float64(0.99529800528719)}, {'cost': np.float64(269117387.67123294), 'wasted_production_over_time': np.float64(142732.8767123295), 'waiting_time': np.int64(900), 'underfill_rate': np.float64(0.21420163422254224)}, {'cost': np.float64(667962375.0), 'wasted_production_over_time': np.float64(0.0), 'waiting_time': np.float64(2368.0), 'underfill_rate': np.float64(0.9950605623648155)}, {'cost': np.float64(668011675.0), 'wasted_production_over_time': np.float64(0.0), 'waiting_time': np.float64(2231.0), 'underfill_rate': np.float64(0.9951641432347987)}]\n",
      "Besofre normalize {'cost': np.float64(668011675.0), 'wasted_production_over_time': np.float64(0.0), 'waiting_time': np.float64(2231.0), 'underfill_rate': np.float64(0.9951641432347987)}\n",
      "Normalize {'cost': np.float64(0.7697990945608072), 'wasted_production_over_time': 0.0, 'waiting_time': np.float64(0.7271150221521872), 'underfill_rate': np.float64(0.7572767415167463)}\n"
     ]
    },
    {
     "name": "stderr",
     "output_type": "stream",
     "text": [
      "\u001b[1mDEBUG\u001b[0m :\t\u001b[33mSolution 7 dominée par le front de pareto, on passe a la suivante.\u001b[39m\n",
      "\n",
      "\u001b[1mDEBUG\u001b[0m :\t\u001b[95m# Éval n°5/5\u001b[39m:\n",
      "\t-ship:4-ship-capa:20000-speed:12\n",
      "\t-storge:1\n",
      "\n"
     ]
    },
    {
     "name": "stdout",
     "output_type": "stream",
     "text": [
      "KPI list [{'cost': np.float64(668667900.0), 'wasted_production_over_time': np.float64(0.0), 'waiting_time': np.float64(2369.0), 'underfill_rate': np.float64(0.995154289834174)}, {'cost': np.float64(532433500.0), 'wasted_production_over_time': np.float64(0.0), 'waiting_time': np.float64(2301.0), 'underfill_rate': np.float64(0.9952751742369618)}, {'cost': np.float64(396149800.0), 'wasted_production_over_time': np.float64(0.0), 'waiting_time': np.float64(2290.0), 'underfill_rate': np.float64(0.99529800528719)}, {'cost': np.float64(269117387.67123294), 'wasted_production_over_time': np.float64(142732.8767123295), 'waiting_time': np.int64(900), 'underfill_rate': np.float64(0.21420163422254224)}, {'cost': np.float64(667962375.0), 'wasted_production_over_time': np.float64(0.0), 'waiting_time': np.float64(2368.0), 'underfill_rate': np.float64(0.9950605623648155)}, {'cost': np.float64(668011675.0), 'wasted_production_over_time': np.float64(0.0), 'waiting_time': np.float64(2231.0), 'underfill_rate': np.float64(0.9951641432347987)}, {'cost': np.float64(668052050.0), 'wasted_production_over_time': np.float64(0.0), 'waiting_time': np.float64(2172.0), 'underfill_rate': np.float64(0.9952213410237918)}]\n",
      "Besofre normalize {'cost': np.float64(668052050.0), 'wasted_production_over_time': np.float64(0.0), 'waiting_time': np.float64(2172.0), 'underfill_rate': np.float64(0.9952213410237918)}\n",
      "Normalize {'cost': np.float64(0.774780964228263), 'wasted_production_over_time': 0.0, 'waiting_time': np.float64(0.7126152465042318), 'underfill_rate': np.float64(0.7711988767951995)}\n"
     ]
    },
    {
     "name": "stderr",
     "output_type": "stream",
     "text": [
      "\u001b[1mDEBUG\u001b[0m :\t\u001b[33mSolution 8 dominée par le front de pareto, on passe a la suivante.\u001b[39m\n",
      "\n",
      "\u001b[1mDEBUG\u001b[0m :\t\u001b[95m# Éval n°5/5\u001b[39m:\n",
      "\t-ship:4-ship-capa:20000-speed:12\n",
      "\t-storge:1\n",
      "\n"
     ]
    },
    {
     "name": "stdout",
     "output_type": "stream",
     "text": [
      "KPI list [{'cost': np.float64(668667900.0), 'wasted_production_over_time': np.float64(0.0), 'waiting_time': np.float64(2369.0), 'underfill_rate': np.float64(0.995154289834174)}, {'cost': np.float64(532433500.0), 'wasted_production_over_time': np.float64(0.0), 'waiting_time': np.float64(2301.0), 'underfill_rate': np.float64(0.9952751742369618)}, {'cost': np.float64(396149800.0), 'wasted_production_over_time': np.float64(0.0), 'waiting_time': np.float64(2290.0), 'underfill_rate': np.float64(0.99529800528719)}, {'cost': np.float64(269117387.67123294), 'wasted_production_over_time': np.float64(142732.8767123295), 'waiting_time': np.int64(900), 'underfill_rate': np.float64(0.21420163422254224)}, {'cost': np.float64(667962375.0), 'wasted_production_over_time': np.float64(0.0), 'waiting_time': np.float64(2368.0), 'underfill_rate': np.float64(0.9950605623648155)}, {'cost': np.float64(668011675.0), 'wasted_production_over_time': np.float64(0.0), 'waiting_time': np.float64(2231.0), 'underfill_rate': np.float64(0.9951641432347987)}, {'cost': np.float64(668052050.0), 'wasted_production_over_time': np.float64(0.0), 'waiting_time': np.float64(2172.0), 'underfill_rate': np.float64(0.9952213410237918)}, {'cost': np.float64(668016775.0), 'wasted_production_over_time': np.float64(0.0), 'waiting_time': np.float64(2236.0), 'underfill_rate': np.float64(0.9951586157173751)}]\n",
      "Besofre normalize {'cost': np.float64(668016775.0), 'wasted_production_over_time': np.float64(0.0), 'waiting_time': np.float64(2236.0), 'underfill_rate': np.float64(0.9951586157173751)}\n",
      "Normalize {'cost': np.float64(0.7798760166076643), 'wasted_production_over_time': 0.0, 'waiting_time': np.float64(0.7450210905779509), 'underfill_rate': np.float64(0.7827147879405166)}\n"
     ]
    },
    {
     "name": "stderr",
     "output_type": "stream",
     "text": [
      "\u001b[1mDEBUG\u001b[0m :\t\u001b[33mSolution 9 dominée par le front de pareto, on passe a la suivante.\u001b[39m\n",
      "\n",
      "\u001b[1mDEBUG\u001b[0m :\t\u001b[95m# Éval n°5/5\u001b[39m:\n",
      "\t-ship:4-ship-capa:20000-speed:12\n",
      "\t-storge:1\n",
      "\n"
     ]
    },
    {
     "name": "stdout",
     "output_type": "stream",
     "text": [
      "KPI list [{'cost': np.float64(668667900.0), 'wasted_production_over_time': np.float64(0.0), 'waiting_time': np.float64(2369.0), 'underfill_rate': np.float64(0.995154289834174)}, {'cost': np.float64(532433500.0), 'wasted_production_over_time': np.float64(0.0), 'waiting_time': np.float64(2301.0), 'underfill_rate': np.float64(0.9952751742369618)}, {'cost': np.float64(396149800.0), 'wasted_production_over_time': np.float64(0.0), 'waiting_time': np.float64(2290.0), 'underfill_rate': np.float64(0.99529800528719)}, {'cost': np.float64(269117387.67123294), 'wasted_production_over_time': np.float64(142732.8767123295), 'waiting_time': np.int64(900), 'underfill_rate': np.float64(0.21420163422254224)}, {'cost': np.float64(667962375.0), 'wasted_production_over_time': np.float64(0.0), 'waiting_time': np.float64(2368.0), 'underfill_rate': np.float64(0.9950605623648155)}, {'cost': np.float64(668011675.0), 'wasted_production_over_time': np.float64(0.0), 'waiting_time': np.float64(2231.0), 'underfill_rate': np.float64(0.9951641432347987)}, {'cost': np.float64(668052050.0), 'wasted_production_over_time': np.float64(0.0), 'waiting_time': np.float64(2172.0), 'underfill_rate': np.float64(0.9952213410237918)}, {'cost': np.float64(668016775.0), 'wasted_production_over_time': np.float64(0.0), 'waiting_time': np.float64(2236.0), 'underfill_rate': np.float64(0.9951586157173751)}, {'cost': np.float64(668049925.0), 'wasted_production_over_time': np.float64(0.0), 'waiting_time': np.float64(2170.0), 'underfill_rate': np.float64(0.9951771208844022)}]\n",
      "Besofre normalize {'cost': np.float64(668049925.0), 'wasted_production_over_time': np.float64(0.0), 'waiting_time': np.float64(2170.0), 'underfill_rate': np.float64(0.9951771208844022)}\n",
      "Normalize {'cost': np.float64(0.7849346323265372), 'wasted_production_over_time': 0.0, 'waiting_time': np.float64(0.7238589809369578), 'underfill_rate': np.float64(0.7925738322193067)}\n"
     ]
    },
    {
     "name": "stderr",
     "output_type": "stream",
     "text": [
      "\u001b[1mDEBUG\u001b[0m :\t\u001b[33mSolution 10 dominée par le front de pareto, on passe a la suivante.\u001b[39m\n",
      "\n",
      "\u001b[1mDEBUG\u001b[0m :\t\u001b[95m# Éval n°5/5\u001b[39m:\n",
      "\t-ship:4-ship-capa:20000-speed:12\n",
      "\t-storge:1\n",
      "\n"
     ]
    },
    {
     "name": "stdout",
     "output_type": "stream",
     "text": [
      "KPI list [{'cost': np.float64(668667900.0), 'wasted_production_over_time': np.float64(0.0), 'waiting_time': np.float64(2369.0), 'underfill_rate': np.float64(0.995154289834174)}, {'cost': np.float64(532433500.0), 'wasted_production_over_time': np.float64(0.0), 'waiting_time': np.float64(2301.0), 'underfill_rate': np.float64(0.9952751742369618)}, {'cost': np.float64(396149800.0), 'wasted_production_over_time': np.float64(0.0), 'waiting_time': np.float64(2290.0), 'underfill_rate': np.float64(0.99529800528719)}, {'cost': np.float64(269117387.67123294), 'wasted_production_over_time': np.float64(142732.8767123295), 'waiting_time': np.int64(900), 'underfill_rate': np.float64(0.21420163422254224)}, {'cost': np.float64(667962375.0), 'wasted_production_over_time': np.float64(0.0), 'waiting_time': np.float64(2368.0), 'underfill_rate': np.float64(0.9950605623648155)}, {'cost': np.float64(668011675.0), 'wasted_production_over_time': np.float64(0.0), 'waiting_time': np.float64(2231.0), 'underfill_rate': np.float64(0.9951641432347987)}, {'cost': np.float64(668052050.0), 'wasted_production_over_time': np.float64(0.0), 'waiting_time': np.float64(2172.0), 'underfill_rate': np.float64(0.9952213410237918)}, {'cost': np.float64(668016775.0), 'wasted_production_over_time': np.float64(0.0), 'waiting_time': np.float64(2236.0), 'underfill_rate': np.float64(0.9951586157173751)}, {'cost': np.float64(668049925.0), 'wasted_production_over_time': np.float64(0.0), 'waiting_time': np.float64(2170.0), 'underfill_rate': np.float64(0.9951771208844022)}, {'cost': np.float64(668073725.0), 'wasted_production_over_time': np.float64(0.0), 'waiting_time': np.float64(2113.0), 'underfill_rate': np.float64(0.981862292718096)}]\n",
      "Besofre normalize {'cost': np.float64(668073725.0), 'wasted_production_over_time': np.float64(0.0), 'waiting_time': np.float64(2113.0), 'underfill_rate': np.float64(0.981862292718096)}\n",
      "Normalize {'cost': np.float64(0.7897333227992683), 'wasted_production_over_time': 0.0, 'waiting_time': np.float64(0.7045451029215427), 'underfill_rate': np.float64(0.7906543058029097)}\n"
     ]
    },
    {
     "name": "stderr",
     "output_type": "stream",
     "text": [
      "\u001b[1mDEBUG\u001b[0m :\t\u001b[33mSolution 11 dominée par le front de pareto, on passe a la suivante.\u001b[39m\n",
      "\n",
      "\u001b[1mDEBUG\u001b[0m :\t\u001b[95m# Éval n°5/5\u001b[39m:\n",
      "\t-ship:4-ship-capa:20000-speed:12\n",
      "\t-storge:1\n",
      "\n"
     ]
    },
    {
     "name": "stdout",
     "output_type": "stream",
     "text": [
      "KPI list [{'cost': np.float64(668667900.0), 'wasted_production_over_time': np.float64(0.0), 'waiting_time': np.float64(2369.0), 'underfill_rate': np.float64(0.995154289834174)}, {'cost': np.float64(532433500.0), 'wasted_production_over_time': np.float64(0.0), 'waiting_time': np.float64(2301.0), 'underfill_rate': np.float64(0.9952751742369618)}, {'cost': np.float64(396149800.0), 'wasted_production_over_time': np.float64(0.0), 'waiting_time': np.float64(2290.0), 'underfill_rate': np.float64(0.99529800528719)}, {'cost': np.float64(269117387.67123294), 'wasted_production_over_time': np.float64(142732.8767123295), 'waiting_time': np.int64(900), 'underfill_rate': np.float64(0.21420163422254224)}, {'cost': np.float64(667962375.0), 'wasted_production_over_time': np.float64(0.0), 'waiting_time': np.float64(2368.0), 'underfill_rate': np.float64(0.9950605623648155)}, {'cost': np.float64(668011675.0), 'wasted_production_over_time': np.float64(0.0), 'waiting_time': np.float64(2231.0), 'underfill_rate': np.float64(0.9951641432347987)}, {'cost': np.float64(668052050.0), 'wasted_production_over_time': np.float64(0.0), 'waiting_time': np.float64(2172.0), 'underfill_rate': np.float64(0.9952213410237918)}, {'cost': np.float64(668016775.0), 'wasted_production_over_time': np.float64(0.0), 'waiting_time': np.float64(2236.0), 'underfill_rate': np.float64(0.9951586157173751)}, {'cost': np.float64(668049925.0), 'wasted_production_over_time': np.float64(0.0), 'waiting_time': np.float64(2170.0), 'underfill_rate': np.float64(0.9951771208844022)}, {'cost': np.float64(668073725.0), 'wasted_production_over_time': np.float64(0.0), 'waiting_time': np.float64(2113.0), 'underfill_rate': np.float64(0.981862292718096)}, {'cost': np.float64(668053750.0), 'wasted_production_over_time': np.float64(0.0), 'waiting_time': np.float64(2172.0), 'underfill_rate': np.float64(0.9951348233597688)}]\n",
      "Besofre normalize {'cost': np.float64(668053750.0), 'wasted_production_over_time': np.float64(0.0), 'waiting_time': np.float64(2172.0), 'underfill_rate': np.float64(0.9951348233597688)}\n",
      "Normalize {'cost': np.float64(0.794190766398298), 'wasted_production_over_time': 0.0, 'waiting_time': np.float64(0.7341650359318695), 'underfill_rate': np.float64(0.808786396295686)}\n"
     ]
    },
    {
     "name": "stderr",
     "output_type": "stream",
     "text": [
      "\u001b[1mDEBUG\u001b[0m :\t\u001b[33mSolution 12 dominée par le front de pareto, on passe a la suivante.\u001b[39m\n",
      "\n",
      "\u001b[1mDEBUG\u001b[0m :\t\u001b[95m# Éval n°5/5\u001b[39m:\n",
      "\t-ship:4-ship-capa:20000-speed:12\n",
      "\t-storge:1\n",
      "\n"
     ]
    },
    {
     "name": "stdout",
     "output_type": "stream",
     "text": [
      "KPI list [{'cost': np.float64(668667900.0), 'wasted_production_over_time': np.float64(0.0), 'waiting_time': np.float64(2369.0), 'underfill_rate': np.float64(0.995154289834174)}, {'cost': np.float64(532433500.0), 'wasted_production_over_time': np.float64(0.0), 'waiting_time': np.float64(2301.0), 'underfill_rate': np.float64(0.9952751742369618)}, {'cost': np.float64(396149800.0), 'wasted_production_over_time': np.float64(0.0), 'waiting_time': np.float64(2290.0), 'underfill_rate': np.float64(0.99529800528719)}, {'cost': np.float64(269117387.67123294), 'wasted_production_over_time': np.float64(142732.8767123295), 'waiting_time': np.int64(900), 'underfill_rate': np.float64(0.21420163422254224)}, {'cost': np.float64(667962375.0), 'wasted_production_over_time': np.float64(0.0), 'waiting_time': np.float64(2368.0), 'underfill_rate': np.float64(0.9950605623648155)}, {'cost': np.float64(668011675.0), 'wasted_production_over_time': np.float64(0.0), 'waiting_time': np.float64(2231.0), 'underfill_rate': np.float64(0.9951641432347987)}, {'cost': np.float64(668052050.0), 'wasted_production_over_time': np.float64(0.0), 'waiting_time': np.float64(2172.0), 'underfill_rate': np.float64(0.9952213410237918)}, {'cost': np.float64(668016775.0), 'wasted_production_over_time': np.float64(0.0), 'waiting_time': np.float64(2236.0), 'underfill_rate': np.float64(0.9951586157173751)}, {'cost': np.float64(668049925.0), 'wasted_production_over_time': np.float64(0.0), 'waiting_time': np.float64(2170.0), 'underfill_rate': np.float64(0.9951771208844022)}, {'cost': np.float64(668073725.0), 'wasted_production_over_time': np.float64(0.0), 'waiting_time': np.float64(2113.0), 'underfill_rate': np.float64(0.981862292718096)}, {'cost': np.float64(668053750.0), 'wasted_production_over_time': np.float64(0.0), 'waiting_time': np.float64(2172.0), 'underfill_rate': np.float64(0.9951348233597688)}, {'cost': np.float64(668019750.0), 'wasted_production_over_time': np.float64(0.0), 'waiting_time': np.float64(2237.0), 'underfill_rate': np.float64(0.9951670271569328)}]\n",
      "Besofre normalize {'cost': np.float64(668019750.0), 'wasted_production_over_time': np.float64(0.0), 'waiting_time': np.float64(2237.0), 'underfill_rate': np.float64(0.9951670271569328)}\n",
      "Normalize {'cost': np.float64(0.7983503859508468), 'wasted_production_over_time': 0.0, 'waiting_time': np.float64(0.7666149914444286), 'underfill_rate': np.float64(0.8154230055768509)}\n"
     ]
    },
    {
     "name": "stderr",
     "output_type": "stream",
     "text": [
      "\u001b[1mDEBUG\u001b[0m :\t\u001b[33mSolution 13 dominée par le front de pareto, on passe a la suivante.\u001b[39m\n",
      "\n",
      "\u001b[1mDEBUG\u001b[0m :\t\u001b[95m# Éval n°5/5\u001b[39m:\n",
      "\t-ship:4-ship-capa:20000-speed:12\n",
      "\t-storge:1\n",
      "\n"
     ]
    },
    {
     "name": "stdout",
     "output_type": "stream",
     "text": [
      "KPI list [{'cost': np.float64(668667900.0), 'wasted_production_over_time': np.float64(0.0), 'waiting_time': np.float64(2369.0), 'underfill_rate': np.float64(0.995154289834174)}, {'cost': np.float64(532433500.0), 'wasted_production_over_time': np.float64(0.0), 'waiting_time': np.float64(2301.0), 'underfill_rate': np.float64(0.9952751742369618)}, {'cost': np.float64(396149800.0), 'wasted_production_over_time': np.float64(0.0), 'waiting_time': np.float64(2290.0), 'underfill_rate': np.float64(0.99529800528719)}, {'cost': np.float64(269117387.67123294), 'wasted_production_over_time': np.float64(142732.8767123295), 'waiting_time': np.int64(900), 'underfill_rate': np.float64(0.21420163422254224)}, {'cost': np.float64(667962375.0), 'wasted_production_over_time': np.float64(0.0), 'waiting_time': np.float64(2368.0), 'underfill_rate': np.float64(0.9950605623648155)}, {'cost': np.float64(668011675.0), 'wasted_production_over_time': np.float64(0.0), 'waiting_time': np.float64(2231.0), 'underfill_rate': np.float64(0.9951641432347987)}, {'cost': np.float64(668052050.0), 'wasted_production_over_time': np.float64(0.0), 'waiting_time': np.float64(2172.0), 'underfill_rate': np.float64(0.9952213410237918)}, {'cost': np.float64(668016775.0), 'wasted_production_over_time': np.float64(0.0), 'waiting_time': np.float64(2236.0), 'underfill_rate': np.float64(0.9951586157173751)}, {'cost': np.float64(668049925.0), 'wasted_production_over_time': np.float64(0.0), 'waiting_time': np.float64(2170.0), 'underfill_rate': np.float64(0.9951771208844022)}, {'cost': np.float64(668073725.0), 'wasted_production_over_time': np.float64(0.0), 'waiting_time': np.float64(2113.0), 'underfill_rate': np.float64(0.981862292718096)}, {'cost': np.float64(668053750.0), 'wasted_production_over_time': np.float64(0.0), 'waiting_time': np.float64(2172.0), 'underfill_rate': np.float64(0.9951348233597688)}, {'cost': np.float64(668019750.0), 'wasted_production_over_time': np.float64(0.0), 'waiting_time': np.float64(2237.0), 'underfill_rate': np.float64(0.9951670271569328)}, {'cost': np.float64(668045675.0), 'wasted_production_over_time': np.float64(0.0), 'waiting_time': np.float64(2167.0), 'underfill_rate': np.float64(0.9951208844027872)}]\n",
      "Besofre normalize {'cost': np.float64(668045675.0), 'wasted_production_over_time': np.float64(0.0), 'waiting_time': np.float64(2167.0), 'underfill_rate': np.float64(0.9951208844027872)}\n",
      "Normalize {'cost': np.float64(0.8023359465332363), 'wasted_production_over_time': 0.0, 'waiting_time': np.float64(0.7391726548687595), 'underfill_rate': np.float64(0.8213110746945921)}\n"
     ]
    },
    {
     "name": "stderr",
     "output_type": "stream",
     "text": [
      "\u001b[1mDEBUG\u001b[0m :\t\u001b[33mSolution 14 dominée par le front de pareto, on passe a la suivante.\u001b[39m\n",
      "\n",
      "\u001b[1mDEBUG\u001b[0m :\t\u001b[95m# Éval n°5/5\u001b[39m:\n",
      "\t-ship:4-ship-capa:20000-speed:12\n",
      "\t-storge:1\n",
      "\n"
     ]
    },
    {
     "name": "stdout",
     "output_type": "stream",
     "text": [
      "KPI list [{'cost': np.float64(668667900.0), 'wasted_production_over_time': np.float64(0.0), 'waiting_time': np.float64(2369.0), 'underfill_rate': np.float64(0.995154289834174)}, {'cost': np.float64(532433500.0), 'wasted_production_over_time': np.float64(0.0), 'waiting_time': np.float64(2301.0), 'underfill_rate': np.float64(0.9952751742369618)}, {'cost': np.float64(396149800.0), 'wasted_production_over_time': np.float64(0.0), 'waiting_time': np.float64(2290.0), 'underfill_rate': np.float64(0.99529800528719)}, {'cost': np.float64(269117387.67123294), 'wasted_production_over_time': np.float64(142732.8767123295), 'waiting_time': np.int64(900), 'underfill_rate': np.float64(0.21420163422254224)}, {'cost': np.float64(667962375.0), 'wasted_production_over_time': np.float64(0.0), 'waiting_time': np.float64(2368.0), 'underfill_rate': np.float64(0.9950605623648155)}, {'cost': np.float64(668011675.0), 'wasted_production_over_time': np.float64(0.0), 'waiting_time': np.float64(2231.0), 'underfill_rate': np.float64(0.9951641432347987)}, {'cost': np.float64(668052050.0), 'wasted_production_over_time': np.float64(0.0), 'waiting_time': np.float64(2172.0), 'underfill_rate': np.float64(0.9952213410237918)}, {'cost': np.float64(668016775.0), 'wasted_production_over_time': np.float64(0.0), 'waiting_time': np.float64(2236.0), 'underfill_rate': np.float64(0.9951586157173751)}, {'cost': np.float64(668049925.0), 'wasted_production_over_time': np.float64(0.0), 'waiting_time': np.float64(2170.0), 'underfill_rate': np.float64(0.9951771208844022)}, {'cost': np.float64(668073725.0), 'wasted_production_over_time': np.float64(0.0), 'waiting_time': np.float64(2113.0), 'underfill_rate': np.float64(0.981862292718096)}, {'cost': np.float64(668053750.0), 'wasted_production_over_time': np.float64(0.0), 'waiting_time': np.float64(2172.0), 'underfill_rate': np.float64(0.9951348233597688)}, {'cost': np.float64(668019750.0), 'wasted_production_over_time': np.float64(0.0), 'waiting_time': np.float64(2237.0), 'underfill_rate': np.float64(0.9951670271569328)}, {'cost': np.float64(668045675.0), 'wasted_production_over_time': np.float64(0.0), 'waiting_time': np.float64(2167.0), 'underfill_rate': np.float64(0.9951208844027872)}, {'cost': np.float64(668067350.0), 'wasted_production_over_time': np.float64(0.0), 'waiting_time': np.float64(2108.0), 'underfill_rate': np.float64(0.9816200432588315)}]\n",
      "Besofre normalize {'cost': np.float64(668067350.0), 'wasted_production_over_time': np.float64(0.0), 'waiting_time': np.float64(2108.0), 'underfill_rate': np.float64(0.9816200432588315)}\n",
      "Normalize {'cost': np.float64(0.8060722754038064), 'wasted_production_over_time': 0.0, 'waiting_time': np.float64(0.7155377530326074), 'underfill_rate': np.float64(0.8147003411630857)}\n"
     ]
    },
    {
     "name": "stderr",
     "output_type": "stream",
     "text": [
      "\u001b[1mDEBUG\u001b[0m :\t\u001b[33mSolution 15 dominée par le front de pareto, on passe a la suivante.\u001b[39m\n",
      "\n",
      "\u001b[1mDEBUG\u001b[0m :\t\u001b[95m# Éval n°5/5\u001b[39m:\n",
      "\t-ship:4-ship-capa:20000-speed:12\n",
      "\t-storge:1\n",
      "\n"
     ]
    },
    {
     "name": "stdout",
     "output_type": "stream",
     "text": [
      "KPI list [{'cost': np.float64(668667900.0), 'wasted_production_over_time': np.float64(0.0), 'waiting_time': np.float64(2369.0), 'underfill_rate': np.float64(0.995154289834174)}, {'cost': np.float64(532433500.0), 'wasted_production_over_time': np.float64(0.0), 'waiting_time': np.float64(2301.0), 'underfill_rate': np.float64(0.9952751742369618)}, {'cost': np.float64(396149800.0), 'wasted_production_over_time': np.float64(0.0), 'waiting_time': np.float64(2290.0), 'underfill_rate': np.float64(0.99529800528719)}, {'cost': np.float64(269117387.67123294), 'wasted_production_over_time': np.float64(142732.8767123295), 'waiting_time': np.int64(900), 'underfill_rate': np.float64(0.21420163422254224)}, {'cost': np.float64(667962375.0), 'wasted_production_over_time': np.float64(0.0), 'waiting_time': np.float64(2368.0), 'underfill_rate': np.float64(0.9950605623648155)}, {'cost': np.float64(668011675.0), 'wasted_production_over_time': np.float64(0.0), 'waiting_time': np.float64(2231.0), 'underfill_rate': np.float64(0.9951641432347987)}, {'cost': np.float64(668052050.0), 'wasted_production_over_time': np.float64(0.0), 'waiting_time': np.float64(2172.0), 'underfill_rate': np.float64(0.9952213410237918)}, {'cost': np.float64(668016775.0), 'wasted_production_over_time': np.float64(0.0), 'waiting_time': np.float64(2236.0), 'underfill_rate': np.float64(0.9951586157173751)}, {'cost': np.float64(668049925.0), 'wasted_production_over_time': np.float64(0.0), 'waiting_time': np.float64(2170.0), 'underfill_rate': np.float64(0.9951771208844022)}, {'cost': np.float64(668073725.0), 'wasted_production_over_time': np.float64(0.0), 'waiting_time': np.float64(2113.0), 'underfill_rate': np.float64(0.981862292718096)}, {'cost': np.float64(668053750.0), 'wasted_production_over_time': np.float64(0.0), 'waiting_time': np.float64(2172.0), 'underfill_rate': np.float64(0.9951348233597688)}, {'cost': np.float64(668019750.0), 'wasted_production_over_time': np.float64(0.0), 'waiting_time': np.float64(2237.0), 'underfill_rate': np.float64(0.9951670271569328)}, {'cost': np.float64(668045675.0), 'wasted_production_over_time': np.float64(0.0), 'waiting_time': np.float64(2167.0), 'underfill_rate': np.float64(0.9951208844027872)}, {'cost': np.float64(668067350.0), 'wasted_production_over_time': np.float64(0.0), 'waiting_time': np.float64(2108.0), 'underfill_rate': np.float64(0.9816200432588315)}, {'cost': np.float64(668407939.3835616), 'wasted_production_over_time': np.float64(10061.643835616458), 'waiting_time': np.float64(2157.0), 'underfill_rate': np.float64(0.9567366017784181)}]\n",
      "Besofre normalize {'cost': np.float64(668407939.3835616), 'wasted_production_over_time': np.float64(10061.643835616458), 'waiting_time': np.float64(2157.0), 'underfill_rate': np.float64(0.9567366017784181)}\n",
      "Normalize {'cost': np.float64(0.8100721145259349), 'wasted_production_over_time': np.float64(0.056056152910883825), 'waiting_time': np.float64(0.7407297258873043), 'underfill_rate': np.float64(0.7976564568879573)}\n"
     ]
    },
    {
     "name": "stderr",
     "output_type": "stream",
     "text": [
      "\u001b[1mDEBUG\u001b[0m :\t\u001b[33mSolution 16 dominée par le front de pareto, on passe a la suivante.\u001b[39m\n",
      "\n",
      "\u001b[1mDEBUG\u001b[0m :\t\u001b[95m# Éval n°5/5\u001b[39m:\n",
      "\t-ship:4-ship-capa:20000-speed:12\n",
      "\t-storge:1\n",
      "\n"
     ]
    },
    {
     "name": "stdout",
     "output_type": "stream",
     "text": [
      "KPI list [{'cost': np.float64(668667900.0), 'wasted_production_over_time': np.float64(0.0), 'waiting_time': np.float64(2369.0), 'underfill_rate': np.float64(0.995154289834174)}, {'cost': np.float64(532433500.0), 'wasted_production_over_time': np.float64(0.0), 'waiting_time': np.float64(2301.0), 'underfill_rate': np.float64(0.9952751742369618)}, {'cost': np.float64(396149800.0), 'wasted_production_over_time': np.float64(0.0), 'waiting_time': np.float64(2290.0), 'underfill_rate': np.float64(0.99529800528719)}, {'cost': np.float64(269117387.67123294), 'wasted_production_over_time': np.float64(142732.8767123295), 'waiting_time': np.int64(900), 'underfill_rate': np.float64(0.21420163422254224)}, {'cost': np.float64(667962375.0), 'wasted_production_over_time': np.float64(0.0), 'waiting_time': np.float64(2368.0), 'underfill_rate': np.float64(0.9950605623648155)}, {'cost': np.float64(668011675.0), 'wasted_production_over_time': np.float64(0.0), 'waiting_time': np.float64(2231.0), 'underfill_rate': np.float64(0.9951641432347987)}, {'cost': np.float64(668052050.0), 'wasted_production_over_time': np.float64(0.0), 'waiting_time': np.float64(2172.0), 'underfill_rate': np.float64(0.9952213410237918)}, {'cost': np.float64(668016775.0), 'wasted_production_over_time': np.float64(0.0), 'waiting_time': np.float64(2236.0), 'underfill_rate': np.float64(0.9951586157173751)}, {'cost': np.float64(668049925.0), 'wasted_production_over_time': np.float64(0.0), 'waiting_time': np.float64(2170.0), 'underfill_rate': np.float64(0.9951771208844022)}, {'cost': np.float64(668073725.0), 'wasted_production_over_time': np.float64(0.0), 'waiting_time': np.float64(2113.0), 'underfill_rate': np.float64(0.981862292718096)}, {'cost': np.float64(668053750.0), 'wasted_production_over_time': np.float64(0.0), 'waiting_time': np.float64(2172.0), 'underfill_rate': np.float64(0.9951348233597688)}, {'cost': np.float64(668019750.0), 'wasted_production_over_time': np.float64(0.0), 'waiting_time': np.float64(2237.0), 'underfill_rate': np.float64(0.9951670271569328)}, {'cost': np.float64(668045675.0), 'wasted_production_over_time': np.float64(0.0), 'waiting_time': np.float64(2167.0), 'underfill_rate': np.float64(0.9951208844027872)}, {'cost': np.float64(668067350.0), 'wasted_production_over_time': np.float64(0.0), 'waiting_time': np.float64(2108.0), 'underfill_rate': np.float64(0.9816200432588315)}, {'cost': np.float64(668407939.3835616), 'wasted_production_over_time': np.float64(10061.643835616458), 'waiting_time': np.float64(2157.0), 'underfill_rate': np.float64(0.9567366017784181)}, {'cost': np.float64(668073300.0), 'wasted_production_over_time': np.float64(0.0), 'waiting_time': np.float64(2112.0), 'underfill_rate': np.float64(0.9815311223263633)}]\n",
      "Besofre normalize {'cost': np.float64(668073300.0), 'wasted_production_over_time': np.float64(0.0), 'waiting_time': np.float64(2112.0), 'underfill_rate': np.float64(0.9815311223263633)}\n",
      "Normalize {'cost': np.float64(0.8128305854936916), 'wasted_production_over_time': 0.0, 'waiting_time': np.float64(0.7224264416413562), 'underfill_rate': np.float64(0.8221717622842092)}\n"
     ]
    },
    {
     "name": "stderr",
     "output_type": "stream",
     "text": [
      "\u001b[1mDEBUG\u001b[0m :\t\u001b[33mSolution 17 dominée par le front de pareto, on passe a la suivante.\u001b[39m\n",
      "\n",
      "\u001b[1mDEBUG\u001b[0m :\t\u001b[95m# Éval n°5/5\u001b[39m:\n",
      "\t-ship:4-ship-capa:20000-speed:12\n",
      "\t-storge:1\n",
      "\n"
     ]
    },
    {
     "name": "stdout",
     "output_type": "stream",
     "text": [
      "KPI list [{'cost': np.float64(668667900.0), 'wasted_production_over_time': np.float64(0.0), 'waiting_time': np.float64(2369.0), 'underfill_rate': np.float64(0.995154289834174)}, {'cost': np.float64(532433500.0), 'wasted_production_over_time': np.float64(0.0), 'waiting_time': np.float64(2301.0), 'underfill_rate': np.float64(0.9952751742369618)}, {'cost': np.float64(396149800.0), 'wasted_production_over_time': np.float64(0.0), 'waiting_time': np.float64(2290.0), 'underfill_rate': np.float64(0.99529800528719)}, {'cost': np.float64(269117387.67123294), 'wasted_production_over_time': np.float64(142732.8767123295), 'waiting_time': np.int64(900), 'underfill_rate': np.float64(0.21420163422254224)}, {'cost': np.float64(667962375.0), 'wasted_production_over_time': np.float64(0.0), 'waiting_time': np.float64(2368.0), 'underfill_rate': np.float64(0.9950605623648155)}, {'cost': np.float64(668011675.0), 'wasted_production_over_time': np.float64(0.0), 'waiting_time': np.float64(2231.0), 'underfill_rate': np.float64(0.9951641432347987)}, {'cost': np.float64(668052050.0), 'wasted_production_over_time': np.float64(0.0), 'waiting_time': np.float64(2172.0), 'underfill_rate': np.float64(0.9952213410237918)}, {'cost': np.float64(668016775.0), 'wasted_production_over_time': np.float64(0.0), 'waiting_time': np.float64(2236.0), 'underfill_rate': np.float64(0.9951586157173751)}, {'cost': np.float64(668049925.0), 'wasted_production_over_time': np.float64(0.0), 'waiting_time': np.float64(2170.0), 'underfill_rate': np.float64(0.9951771208844022)}, {'cost': np.float64(668073725.0), 'wasted_production_over_time': np.float64(0.0), 'waiting_time': np.float64(2113.0), 'underfill_rate': np.float64(0.981862292718096)}, {'cost': np.float64(668053750.0), 'wasted_production_over_time': np.float64(0.0), 'waiting_time': np.float64(2172.0), 'underfill_rate': np.float64(0.9951348233597688)}, {'cost': np.float64(668019750.0), 'wasted_production_over_time': np.float64(0.0), 'waiting_time': np.float64(2237.0), 'underfill_rate': np.float64(0.9951670271569328)}, {'cost': np.float64(668045675.0), 'wasted_production_over_time': np.float64(0.0), 'waiting_time': np.float64(2167.0), 'underfill_rate': np.float64(0.9951208844027872)}, {'cost': np.float64(668067350.0), 'wasted_production_over_time': np.float64(0.0), 'waiting_time': np.float64(2108.0), 'underfill_rate': np.float64(0.9816200432588315)}, {'cost': np.float64(668407939.3835616), 'wasted_production_over_time': np.float64(10061.643835616458), 'waiting_time': np.float64(2157.0), 'underfill_rate': np.float64(0.9567366017784181)}, {'cost': np.float64(668073300.0), 'wasted_production_over_time': np.float64(0.0), 'waiting_time': np.float64(2112.0), 'underfill_rate': np.float64(0.9815311223263633)}, {'cost': np.float64(668049075.0), 'wasted_production_over_time': np.float64(0.0), 'waiting_time': np.float64(2169.0), 'underfill_rate': np.float64(0.9952220620043253)}]\n",
      "Besofre normalize {'cost': np.float64(668049075.0), 'wasted_production_over_time': np.float64(0.0), 'waiting_time': np.float64(2169.0), 'underfill_rate': np.float64(0.9952220620043253)}\n",
      "Normalize {'cost': np.float64(0.8158861226163556), 'wasted_production_over_time': 0.0, 'waiting_time': np.float64(0.751469321353481), 'underfill_rate': np.float64(0.8371735476632737)}\n"
     ]
    },
    {
     "name": "stderr",
     "output_type": "stream",
     "text": [
      "\u001b[1mDEBUG\u001b[0m :\t\u001b[33mSolution 18 dominée par le front de pareto, on passe a la suivante.\u001b[39m\n",
      "\n",
      "\u001b[1mDEBUG\u001b[0m :\t\u001b[95m# Éval n°5/5\u001b[39m:\n",
      "\t-ship:4-ship-capa:20000-speed:12\n",
      "\t-storge:1\n",
      "\n"
     ]
    },
    {
     "name": "stdout",
     "output_type": "stream",
     "text": [
      "KPI list [{'cost': np.float64(668667900.0), 'wasted_production_over_time': np.float64(0.0), 'waiting_time': np.float64(2369.0), 'underfill_rate': np.float64(0.995154289834174)}, {'cost': np.float64(532433500.0), 'wasted_production_over_time': np.float64(0.0), 'waiting_time': np.float64(2301.0), 'underfill_rate': np.float64(0.9952751742369618)}, {'cost': np.float64(396149800.0), 'wasted_production_over_time': np.float64(0.0), 'waiting_time': np.float64(2290.0), 'underfill_rate': np.float64(0.99529800528719)}, {'cost': np.float64(269117387.67123294), 'wasted_production_over_time': np.float64(142732.8767123295), 'waiting_time': np.int64(900), 'underfill_rate': np.float64(0.21420163422254224)}, {'cost': np.float64(667962375.0), 'wasted_production_over_time': np.float64(0.0), 'waiting_time': np.float64(2368.0), 'underfill_rate': np.float64(0.9950605623648155)}, {'cost': np.float64(668011675.0), 'wasted_production_over_time': np.float64(0.0), 'waiting_time': np.float64(2231.0), 'underfill_rate': np.float64(0.9951641432347987)}, {'cost': np.float64(668052050.0), 'wasted_production_over_time': np.float64(0.0), 'waiting_time': np.float64(2172.0), 'underfill_rate': np.float64(0.9952213410237918)}, {'cost': np.float64(668016775.0), 'wasted_production_over_time': np.float64(0.0), 'waiting_time': np.float64(2236.0), 'underfill_rate': np.float64(0.9951586157173751)}, {'cost': np.float64(668049925.0), 'wasted_production_over_time': np.float64(0.0), 'waiting_time': np.float64(2170.0), 'underfill_rate': np.float64(0.9951771208844022)}, {'cost': np.float64(668073725.0), 'wasted_production_over_time': np.float64(0.0), 'waiting_time': np.float64(2113.0), 'underfill_rate': np.float64(0.981862292718096)}, {'cost': np.float64(668053750.0), 'wasted_production_over_time': np.float64(0.0), 'waiting_time': np.float64(2172.0), 'underfill_rate': np.float64(0.9951348233597688)}, {'cost': np.float64(668019750.0), 'wasted_production_over_time': np.float64(0.0), 'waiting_time': np.float64(2237.0), 'underfill_rate': np.float64(0.9951670271569328)}, {'cost': np.float64(668045675.0), 'wasted_production_over_time': np.float64(0.0), 'waiting_time': np.float64(2167.0), 'underfill_rate': np.float64(0.9951208844027872)}, {'cost': np.float64(668067350.0), 'wasted_production_over_time': np.float64(0.0), 'waiting_time': np.float64(2108.0), 'underfill_rate': np.float64(0.9816200432588315)}, {'cost': np.float64(668407939.3835616), 'wasted_production_over_time': np.float64(10061.643835616458), 'waiting_time': np.float64(2157.0), 'underfill_rate': np.float64(0.9567366017784181)}, {'cost': np.float64(668073300.0), 'wasted_production_over_time': np.float64(0.0), 'waiting_time': np.float64(2112.0), 'underfill_rate': np.float64(0.9815311223263633)}, {'cost': np.float64(668049075.0), 'wasted_production_over_time': np.float64(0.0), 'waiting_time': np.float64(2169.0), 'underfill_rate': np.float64(0.9952220620043253)}, {'cost': np.float64(668071600.0), 'wasted_production_over_time': np.float64(0.0), 'waiting_time': np.float64(2111.0), 'underfill_rate': np.float64(0.9816320596010568)}]\n",
      "Besofre normalize {'cost': np.float64(668071600.0), 'wasted_production_over_time': np.float64(0.0), 'waiting_time': np.float64(2111.0), 'underfill_rate': np.float64(0.9816320596010568)}\n",
      "Normalize {'cost': np.float64(0.8188462808643886), 'wasted_production_over_time': 0.0, 'waiting_time': np.float64(0.7262587852537228), 'underfill_rate': np.float64(0.8285133048037038)}\n"
     ]
    },
    {
     "name": "stderr",
     "output_type": "stream",
     "text": [
      "\u001b[1mDEBUG\u001b[0m :\t\u001b[33mSolution 19 dominée par le front de pareto, on passe a la suivante.\u001b[39m\n",
      "\n",
      "\u001b[1mDEBUG\u001b[0m :\t\u001b[95m# Éval n°5/5\u001b[39m:\n",
      "\t-ship:4-ship-capa:20000-speed:12\n",
      "\t-storge:1\n",
      "\n"
     ]
    },
    {
     "name": "stdout",
     "output_type": "stream",
     "text": [
      "KPI list [{'cost': np.float64(668667900.0), 'wasted_production_over_time': np.float64(0.0), 'waiting_time': np.float64(2369.0), 'underfill_rate': np.float64(0.995154289834174)}, {'cost': np.float64(532433500.0), 'wasted_production_over_time': np.float64(0.0), 'waiting_time': np.float64(2301.0), 'underfill_rate': np.float64(0.9952751742369618)}, {'cost': np.float64(396149800.0), 'wasted_production_over_time': np.float64(0.0), 'waiting_time': np.float64(2290.0), 'underfill_rate': np.float64(0.99529800528719)}, {'cost': np.float64(269117387.67123294), 'wasted_production_over_time': np.float64(142732.8767123295), 'waiting_time': np.int64(900), 'underfill_rate': np.float64(0.21420163422254224)}, {'cost': np.float64(667962375.0), 'wasted_production_over_time': np.float64(0.0), 'waiting_time': np.float64(2368.0), 'underfill_rate': np.float64(0.9950605623648155)}, {'cost': np.float64(668011675.0), 'wasted_production_over_time': np.float64(0.0), 'waiting_time': np.float64(2231.0), 'underfill_rate': np.float64(0.9951641432347987)}, {'cost': np.float64(668052050.0), 'wasted_production_over_time': np.float64(0.0), 'waiting_time': np.float64(2172.0), 'underfill_rate': np.float64(0.9952213410237918)}, {'cost': np.float64(668016775.0), 'wasted_production_over_time': np.float64(0.0), 'waiting_time': np.float64(2236.0), 'underfill_rate': np.float64(0.9951586157173751)}, {'cost': np.float64(668049925.0), 'wasted_production_over_time': np.float64(0.0), 'waiting_time': np.float64(2170.0), 'underfill_rate': np.float64(0.9951771208844022)}, {'cost': np.float64(668073725.0), 'wasted_production_over_time': np.float64(0.0), 'waiting_time': np.float64(2113.0), 'underfill_rate': np.float64(0.981862292718096)}, {'cost': np.float64(668053750.0), 'wasted_production_over_time': np.float64(0.0), 'waiting_time': np.float64(2172.0), 'underfill_rate': np.float64(0.9951348233597688)}, {'cost': np.float64(668019750.0), 'wasted_production_over_time': np.float64(0.0), 'waiting_time': np.float64(2237.0), 'underfill_rate': np.float64(0.9951670271569328)}, {'cost': np.float64(668045675.0), 'wasted_production_over_time': np.float64(0.0), 'waiting_time': np.float64(2167.0), 'underfill_rate': np.float64(0.9951208844027872)}, {'cost': np.float64(668067350.0), 'wasted_production_over_time': np.float64(0.0), 'waiting_time': np.float64(2108.0), 'underfill_rate': np.float64(0.9816200432588315)}, {'cost': np.float64(668407939.3835616), 'wasted_production_over_time': np.float64(10061.643835616458), 'waiting_time': np.float64(2157.0), 'underfill_rate': np.float64(0.9567366017784181)}, {'cost': np.float64(668073300.0), 'wasted_production_over_time': np.float64(0.0), 'waiting_time': np.float64(2112.0), 'underfill_rate': np.float64(0.9815311223263633)}, {'cost': np.float64(668049075.0), 'wasted_production_over_time': np.float64(0.0), 'waiting_time': np.float64(2169.0), 'underfill_rate': np.float64(0.9952220620043253)}, {'cost': np.float64(668071600.0), 'wasted_production_over_time': np.float64(0.0), 'waiting_time': np.float64(2111.0), 'underfill_rate': np.float64(0.9816320596010568)}, {'cost': np.float64(668047375.0), 'wasted_production_over_time': np.float64(0.0), 'waiting_time': np.float64(2169.0), 'underfill_rate': np.float64(0.9950978130257144)}]\n",
      "Besofre normalize {'cost': np.float64(668047375.0), 'wasted_production_over_time': np.float64(0.0), 'waiting_time': np.float64(2169.0), 'underfill_rate': np.float64(0.9950978130257144)}\n",
      "Normalize {'cost': np.float64(0.8215779221865077), 'wasted_production_over_time': 0.0, 'waiting_time': np.float64(0.755952720555224), 'underfill_rate': np.float64(0.8431287985060084)}\n"
     ]
    },
    {
     "name": "stderr",
     "output_type": "stream",
     "text": [
      "\u001b[1mDEBUG\u001b[0m :\t\u001b[33mSolution 20 dominée par le front de pareto, on passe a la suivante.\u001b[39m\n",
      "\n",
      "\u001b[1mDEBUG\u001b[0m :\t\u001b[33mSolution 21 dominée par le surrogate_front, on passe à la suivante.\u001b[39m\n",
      "\n",
      "\u001b[1mDEBUG\u001b[0m :\t\u001b[95m# Éval n°5/5\u001b[39m:\n",
      "\t-ship:3-ship-capa:20000-speed:12\n",
      "\t-storge:1\n",
      "\n"
     ]
    },
    {
     "name": "stdout",
     "output_type": "stream",
     "text": [
      "KPI list [{'cost': np.float64(668667900.0), 'wasted_production_over_time': np.float64(0.0), 'waiting_time': np.float64(2369.0), 'underfill_rate': np.float64(0.995154289834174)}, {'cost': np.float64(532433500.0), 'wasted_production_over_time': np.float64(0.0), 'waiting_time': np.float64(2301.0), 'underfill_rate': np.float64(0.9952751742369618)}, {'cost': np.float64(396149800.0), 'wasted_production_over_time': np.float64(0.0), 'waiting_time': np.float64(2290.0), 'underfill_rate': np.float64(0.99529800528719)}, {'cost': np.float64(269117387.67123294), 'wasted_production_over_time': np.float64(142732.8767123295), 'waiting_time': np.int64(900), 'underfill_rate': np.float64(0.21420163422254224)}, {'cost': np.float64(667962375.0), 'wasted_production_over_time': np.float64(0.0), 'waiting_time': np.float64(2368.0), 'underfill_rate': np.float64(0.9950605623648155)}, {'cost': np.float64(668011675.0), 'wasted_production_over_time': np.float64(0.0), 'waiting_time': np.float64(2231.0), 'underfill_rate': np.float64(0.9951641432347987)}, {'cost': np.float64(668052050.0), 'wasted_production_over_time': np.float64(0.0), 'waiting_time': np.float64(2172.0), 'underfill_rate': np.float64(0.9952213410237918)}, {'cost': np.float64(668016775.0), 'wasted_production_over_time': np.float64(0.0), 'waiting_time': np.float64(2236.0), 'underfill_rate': np.float64(0.9951586157173751)}, {'cost': np.float64(668049925.0), 'wasted_production_over_time': np.float64(0.0), 'waiting_time': np.float64(2170.0), 'underfill_rate': np.float64(0.9951771208844022)}, {'cost': np.float64(668073725.0), 'wasted_production_over_time': np.float64(0.0), 'waiting_time': np.float64(2113.0), 'underfill_rate': np.float64(0.981862292718096)}, {'cost': np.float64(668053750.0), 'wasted_production_over_time': np.float64(0.0), 'waiting_time': np.float64(2172.0), 'underfill_rate': np.float64(0.9951348233597688)}, {'cost': np.float64(668019750.0), 'wasted_production_over_time': np.float64(0.0), 'waiting_time': np.float64(2237.0), 'underfill_rate': np.float64(0.9951670271569328)}, {'cost': np.float64(668045675.0), 'wasted_production_over_time': np.float64(0.0), 'waiting_time': np.float64(2167.0), 'underfill_rate': np.float64(0.9951208844027872)}, {'cost': np.float64(668067350.0), 'wasted_production_over_time': np.float64(0.0), 'waiting_time': np.float64(2108.0), 'underfill_rate': np.float64(0.9816200432588315)}, {'cost': np.float64(668407939.3835616), 'wasted_production_over_time': np.float64(10061.643835616458), 'waiting_time': np.float64(2157.0), 'underfill_rate': np.float64(0.9567366017784181)}, {'cost': np.float64(668073300.0), 'wasted_production_over_time': np.float64(0.0), 'waiting_time': np.float64(2112.0), 'underfill_rate': np.float64(0.9815311223263633)}, {'cost': np.float64(668049075.0), 'wasted_production_over_time': np.float64(0.0), 'waiting_time': np.float64(2169.0), 'underfill_rate': np.float64(0.9952220620043253)}, {'cost': np.float64(668071600.0), 'wasted_production_over_time': np.float64(0.0), 'waiting_time': np.float64(2111.0), 'underfill_rate': np.float64(0.9816320596010568)}, {'cost': np.float64(668047375.0), 'wasted_production_over_time': np.float64(0.0), 'waiting_time': np.float64(2169.0), 'underfill_rate': np.float64(0.9950978130257144)}, {'cost': np.float64(668016775.0), 'wasted_production_over_time': np.float64(0.0), 'waiting_time': np.float64(2235.0), 'underfill_rate': np.float64(0.9952424897861085)}]\n",
      "Besofre normalize {'cost': np.float64(668016775.0), 'wasted_production_over_time': np.float64(0.0), 'waiting_time': np.float64(2235.0), 'underfill_rate': np.float64(0.9952424897861085)}\n",
      "Normalize {'cost': np.float64(0.8241580158618975), 'wasted_production_over_time': 0.0, 'waiting_time': np.float64(0.7896154977115423), 'underfill_rate': np.float64(0.8459621210130231)}\n"
     ]
    },
    {
     "name": "stderr",
     "output_type": "stream",
     "text": [
      "\u001b[1mDEBUG\u001b[0m :\t\u001b[33mSolution 22 dominée par le front de pareto, on passe a la suivante.\u001b[39m\n",
      "\n",
      "\u001b[1mDEBUG\u001b[0m :\t\u001b[95m# Éval n°5/5\u001b[39m:\n",
      "\t-ship:2-ship-capa:20000-speed:12\n",
      "\t-storge:1\n",
      "\n"
     ]
    },
    {
     "name": "stdout",
     "output_type": "stream",
     "text": [
      "KPI list [{'cost': np.float64(668667900.0), 'wasted_production_over_time': np.float64(0.0), 'waiting_time': np.float64(2369.0), 'underfill_rate': np.float64(0.995154289834174)}, {'cost': np.float64(532433500.0), 'wasted_production_over_time': np.float64(0.0), 'waiting_time': np.float64(2301.0), 'underfill_rate': np.float64(0.9952751742369618)}, {'cost': np.float64(396149800.0), 'wasted_production_over_time': np.float64(0.0), 'waiting_time': np.float64(2290.0), 'underfill_rate': np.float64(0.99529800528719)}, {'cost': np.float64(269117387.67123294), 'wasted_production_over_time': np.float64(142732.8767123295), 'waiting_time': np.int64(900), 'underfill_rate': np.float64(0.21420163422254224)}, {'cost': np.float64(667962375.0), 'wasted_production_over_time': np.float64(0.0), 'waiting_time': np.float64(2368.0), 'underfill_rate': np.float64(0.9950605623648155)}, {'cost': np.float64(668011675.0), 'wasted_production_over_time': np.float64(0.0), 'waiting_time': np.float64(2231.0), 'underfill_rate': np.float64(0.9951641432347987)}, {'cost': np.float64(668052050.0), 'wasted_production_over_time': np.float64(0.0), 'waiting_time': np.float64(2172.0), 'underfill_rate': np.float64(0.9952213410237918)}, {'cost': np.float64(668016775.0), 'wasted_production_over_time': np.float64(0.0), 'waiting_time': np.float64(2236.0), 'underfill_rate': np.float64(0.9951586157173751)}, {'cost': np.float64(668049925.0), 'wasted_production_over_time': np.float64(0.0), 'waiting_time': np.float64(2170.0), 'underfill_rate': np.float64(0.9951771208844022)}, {'cost': np.float64(668073725.0), 'wasted_production_over_time': np.float64(0.0), 'waiting_time': np.float64(2113.0), 'underfill_rate': np.float64(0.981862292718096)}, {'cost': np.float64(668053750.0), 'wasted_production_over_time': np.float64(0.0), 'waiting_time': np.float64(2172.0), 'underfill_rate': np.float64(0.9951348233597688)}, {'cost': np.float64(668019750.0), 'wasted_production_over_time': np.float64(0.0), 'waiting_time': np.float64(2237.0), 'underfill_rate': np.float64(0.9951670271569328)}, {'cost': np.float64(668045675.0), 'wasted_production_over_time': np.float64(0.0), 'waiting_time': np.float64(2167.0), 'underfill_rate': np.float64(0.9951208844027872)}, {'cost': np.float64(668067350.0), 'wasted_production_over_time': np.float64(0.0), 'waiting_time': np.float64(2108.0), 'underfill_rate': np.float64(0.9816200432588315)}, {'cost': np.float64(668407939.3835616), 'wasted_production_over_time': np.float64(10061.643835616458), 'waiting_time': np.float64(2157.0), 'underfill_rate': np.float64(0.9567366017784181)}, {'cost': np.float64(668073300.0), 'wasted_production_over_time': np.float64(0.0), 'waiting_time': np.float64(2112.0), 'underfill_rate': np.float64(0.9815311223263633)}, {'cost': np.float64(668049075.0), 'wasted_production_over_time': np.float64(0.0), 'waiting_time': np.float64(2169.0), 'underfill_rate': np.float64(0.9952220620043253)}, {'cost': np.float64(668071600.0), 'wasted_production_over_time': np.float64(0.0), 'waiting_time': np.float64(2111.0), 'underfill_rate': np.float64(0.9816320596010568)}, {'cost': np.float64(668047375.0), 'wasted_production_over_time': np.float64(0.0), 'waiting_time': np.float64(2169.0), 'underfill_rate': np.float64(0.9950978130257144)}, {'cost': np.float64(668016775.0), 'wasted_production_over_time': np.float64(0.0), 'waiting_time': np.float64(2235.0), 'underfill_rate': np.float64(0.9952424897861085)}, {'cost': np.float64(532461550.0), 'wasted_production_over_time': np.float64(0.0), 'waiting_time': np.float64(2229.0), 'underfill_rate': np.float64(0.9951951453977403)}]\n",
      "Besofre normalize {'cost': np.float64(532461550.0), 'wasted_production_over_time': np.float64(0.0), 'waiting_time': np.float64(2229.0), 'underfill_rate': np.float64(0.9951951453977403)}\n",
      "Normalize {'cost': np.float64(0.6037119093336095), 'wasted_production_over_time': 0.0, 'waiting_time': np.float64(0.7886718464953496), 'underfill_rate': np.float64(0.848472088087876)}\n"
     ]
    },
    {
     "name": "stderr",
     "output_type": "stream",
     "text": [
      "\u001b[1mDEBUG\u001b[0m :\t\u001b[33mSolution 23 dominée par le front de pareto, on passe a la suivante.\u001b[39m\n",
      "\n",
      "\u001b[1mDEBUG\u001b[0m :\t\u001b[95m# Éval n°5/5\u001b[39m:\n",
      "\t-ship:1-ship-capa:20000-speed:12\n",
      "\t-storge:1\n",
      "\n"
     ]
    },
    {
     "name": "stdout",
     "output_type": "stream",
     "text": [
      "KPI list [{'cost': np.float64(668667900.0), 'wasted_production_over_time': np.float64(0.0), 'waiting_time': np.float64(2369.0), 'underfill_rate': np.float64(0.995154289834174)}, {'cost': np.float64(532433500.0), 'wasted_production_over_time': np.float64(0.0), 'waiting_time': np.float64(2301.0), 'underfill_rate': np.float64(0.9952751742369618)}, {'cost': np.float64(396149800.0), 'wasted_production_over_time': np.float64(0.0), 'waiting_time': np.float64(2290.0), 'underfill_rate': np.float64(0.99529800528719)}, {'cost': np.float64(269117387.67123294), 'wasted_production_over_time': np.float64(142732.8767123295), 'waiting_time': np.int64(900), 'underfill_rate': np.float64(0.21420163422254224)}, {'cost': np.float64(667962375.0), 'wasted_production_over_time': np.float64(0.0), 'waiting_time': np.float64(2368.0), 'underfill_rate': np.float64(0.9950605623648155)}, {'cost': np.float64(668011675.0), 'wasted_production_over_time': np.float64(0.0), 'waiting_time': np.float64(2231.0), 'underfill_rate': np.float64(0.9951641432347987)}, {'cost': np.float64(668052050.0), 'wasted_production_over_time': np.float64(0.0), 'waiting_time': np.float64(2172.0), 'underfill_rate': np.float64(0.9952213410237918)}, {'cost': np.float64(668016775.0), 'wasted_production_over_time': np.float64(0.0), 'waiting_time': np.float64(2236.0), 'underfill_rate': np.float64(0.9951586157173751)}, {'cost': np.float64(668049925.0), 'wasted_production_over_time': np.float64(0.0), 'waiting_time': np.float64(2170.0), 'underfill_rate': np.float64(0.9951771208844022)}, {'cost': np.float64(668073725.0), 'wasted_production_over_time': np.float64(0.0), 'waiting_time': np.float64(2113.0), 'underfill_rate': np.float64(0.981862292718096)}, {'cost': np.float64(668053750.0), 'wasted_production_over_time': np.float64(0.0), 'waiting_time': np.float64(2172.0), 'underfill_rate': np.float64(0.9951348233597688)}, {'cost': np.float64(668019750.0), 'wasted_production_over_time': np.float64(0.0), 'waiting_time': np.float64(2237.0), 'underfill_rate': np.float64(0.9951670271569328)}, {'cost': np.float64(668045675.0), 'wasted_production_over_time': np.float64(0.0), 'waiting_time': np.float64(2167.0), 'underfill_rate': np.float64(0.9951208844027872)}, {'cost': np.float64(668067350.0), 'wasted_production_over_time': np.float64(0.0), 'waiting_time': np.float64(2108.0), 'underfill_rate': np.float64(0.9816200432588315)}, {'cost': np.float64(668407939.3835616), 'wasted_production_over_time': np.float64(10061.643835616458), 'waiting_time': np.float64(2157.0), 'underfill_rate': np.float64(0.9567366017784181)}, {'cost': np.float64(668073300.0), 'wasted_production_over_time': np.float64(0.0), 'waiting_time': np.float64(2112.0), 'underfill_rate': np.float64(0.9815311223263633)}, {'cost': np.float64(668049075.0), 'wasted_production_over_time': np.float64(0.0), 'waiting_time': np.float64(2169.0), 'underfill_rate': np.float64(0.9952220620043253)}, {'cost': np.float64(668071600.0), 'wasted_production_over_time': np.float64(0.0), 'waiting_time': np.float64(2111.0), 'underfill_rate': np.float64(0.9816320596010568)}, {'cost': np.float64(668047375.0), 'wasted_production_over_time': np.float64(0.0), 'waiting_time': np.float64(2169.0), 'underfill_rate': np.float64(0.9950978130257144)}, {'cost': np.float64(668016775.0), 'wasted_production_over_time': np.float64(0.0), 'waiting_time': np.float64(2235.0), 'underfill_rate': np.float64(0.9952424897861085)}, {'cost': np.float64(532461550.0), 'wasted_production_over_time': np.float64(0.0), 'waiting_time': np.float64(2229.0), 'underfill_rate': np.float64(0.9951951453977403)}, {'cost': np.float64(396145975.0), 'wasted_production_over_time': np.float64(0.0), 'waiting_time': np.float64(2302.0), 'underfill_rate': np.float64(0.9940968517183364)}]\n",
      "Besofre normalize {'cost': np.float64(396145975.0), 'wasted_production_over_time': np.float64(0.0), 'waiting_time': np.float64(2302.0), 'underfill_rate': np.float64(0.9940968517183364)}\n",
      "Normalize {'cost': np.float64(0.3843833639897227), 'wasted_production_over_time': 0.0, 'waiting_time': np.float64(0.825745351959525), 'underfill_rate': np.float64(0.8499052887242768)}\n"
     ]
    },
    {
     "name": "stderr",
     "output_type": "stream",
     "text": [
      "\u001b[1mDEBUG\u001b[0m :\t\u001b[32m→ Coût total combiné = 269,396,134 €\n",
      "\t→ production gaspillée = 145,610 m^3\n",
      "\t→ Temps d'attente total = 872 s\n",
      "\t→ Taux de remplissage de l'usine = 19.57%\n",
      "\u001b[39m\n",
      "\n",
      "\u001b[1mDEBUG\u001b[0m :\t\u001b[31m=== Limite d'évaluations atteinte (5) ===\u001b[39m\n",
      "\n",
      "\u001b[1mDEBUG\u001b[0m :\t\u001b[32m=== Optimization completed in 19.95 seconds ===\u001b[39m\n",
      "\n",
      "\u001b[1mDEBUG\u001b[0m :\t\u001b[32m=== Résultats Sauvegardé ===\u001b[39m\n",
      "\n",
      "\u001b[1mDEBUG\u001b[0m :\tResult files saved in \u001b[36m/Users/dorian/Documents/TNP/eco2-normandy/saved/test\u001b[39m directory\n",
      "\n"
     ]
    },
    {
     "name": "stdout",
     "output_type": "stream",
     "text": [
      "KPI list [{'cost': np.float64(668667900.0), 'wasted_production_over_time': np.float64(0.0), 'waiting_time': np.float64(2369.0), 'underfill_rate': np.float64(0.995154289834174)}, {'cost': np.float64(532433500.0), 'wasted_production_over_time': np.float64(0.0), 'waiting_time': np.float64(2301.0), 'underfill_rate': np.float64(0.9952751742369618)}, {'cost': np.float64(396149800.0), 'wasted_production_over_time': np.float64(0.0), 'waiting_time': np.float64(2290.0), 'underfill_rate': np.float64(0.99529800528719)}, {'cost': np.float64(269117387.67123294), 'wasted_production_over_time': np.float64(142732.8767123295), 'waiting_time': np.int64(900), 'underfill_rate': np.float64(0.21420163422254224)}, {'cost': np.float64(667962375.0), 'wasted_production_over_time': np.float64(0.0), 'waiting_time': np.float64(2368.0), 'underfill_rate': np.float64(0.9950605623648155)}, {'cost': np.float64(668011675.0), 'wasted_production_over_time': np.float64(0.0), 'waiting_time': np.float64(2231.0), 'underfill_rate': np.float64(0.9951641432347987)}, {'cost': np.float64(668052050.0), 'wasted_production_over_time': np.float64(0.0), 'waiting_time': np.float64(2172.0), 'underfill_rate': np.float64(0.9952213410237918)}, {'cost': np.float64(668016775.0), 'wasted_production_over_time': np.float64(0.0), 'waiting_time': np.float64(2236.0), 'underfill_rate': np.float64(0.9951586157173751)}, {'cost': np.float64(668049925.0), 'wasted_production_over_time': np.float64(0.0), 'waiting_time': np.float64(2170.0), 'underfill_rate': np.float64(0.9951771208844022)}, {'cost': np.float64(668073725.0), 'wasted_production_over_time': np.float64(0.0), 'waiting_time': np.float64(2113.0), 'underfill_rate': np.float64(0.981862292718096)}, {'cost': np.float64(668053750.0), 'wasted_production_over_time': np.float64(0.0), 'waiting_time': np.float64(2172.0), 'underfill_rate': np.float64(0.9951348233597688)}, {'cost': np.float64(668019750.0), 'wasted_production_over_time': np.float64(0.0), 'waiting_time': np.float64(2237.0), 'underfill_rate': np.float64(0.9951670271569328)}, {'cost': np.float64(668045675.0), 'wasted_production_over_time': np.float64(0.0), 'waiting_time': np.float64(2167.0), 'underfill_rate': np.float64(0.9951208844027872)}, {'cost': np.float64(668067350.0), 'wasted_production_over_time': np.float64(0.0), 'waiting_time': np.float64(2108.0), 'underfill_rate': np.float64(0.9816200432588315)}, {'cost': np.float64(668407939.3835616), 'wasted_production_over_time': np.float64(10061.643835616458), 'waiting_time': np.float64(2157.0), 'underfill_rate': np.float64(0.9567366017784181)}, {'cost': np.float64(668073300.0), 'wasted_production_over_time': np.float64(0.0), 'waiting_time': np.float64(2112.0), 'underfill_rate': np.float64(0.9815311223263633)}, {'cost': np.float64(668049075.0), 'wasted_production_over_time': np.float64(0.0), 'waiting_time': np.float64(2169.0), 'underfill_rate': np.float64(0.9952220620043253)}, {'cost': np.float64(668071600.0), 'wasted_production_over_time': np.float64(0.0), 'waiting_time': np.float64(2111.0), 'underfill_rate': np.float64(0.9816320596010568)}, {'cost': np.float64(668047375.0), 'wasted_production_over_time': np.float64(0.0), 'waiting_time': np.float64(2169.0), 'underfill_rate': np.float64(0.9950978130257144)}, {'cost': np.float64(668016775.0), 'wasted_production_over_time': np.float64(0.0), 'waiting_time': np.float64(2235.0), 'underfill_rate': np.float64(0.9952424897861085)}, {'cost': np.float64(532461550.0), 'wasted_production_over_time': np.float64(0.0), 'waiting_time': np.float64(2229.0), 'underfill_rate': np.float64(0.9951951453977403)}, {'cost': np.float64(396145975.0), 'wasted_production_over_time': np.float64(0.0), 'waiting_time': np.float64(2302.0), 'underfill_rate': np.float64(0.9940968517183364)}, {'cost': np.float64(269396133.90410966), 'wasted_production_over_time': np.float64(145609.58904109662), 'waiting_time': np.int64(872), 'underfill_rate': np.float64(0.19572686854121557)}]\n",
      "Besofre normalize {'cost': np.float64(269396133.90410966), 'wasted_production_over_time': np.float64(145609.58904109662), 'waiting_time': np.int64(872), 'underfill_rate': np.float64(0.19572686854121557)}\n",
      "Normalize {'cost': np.float64(0.20034658477700223), 'wasted_production_over_time': np.float64(0.7783985150016329), 'waiting_time': np.float64(0.17102624417200873), 'underfill_rate': np.float64(0.16018565397269502)}\n"
     ]
    }
   ],
   "source": [
    "path = \"scenarios/dev/phase3_bergen_18k_2boats.yaml\"\n",
    "config = get_simlulation_variable(path)[0]\n",
    "config[\"general\"][\"num_period\"] = 2_000\n",
    "\n",
    "cpModel = CpModel(config)\n",
    "optimizer = Optimizer(model=cpModel)\n",
    "optimizer.set_model_callback(max_evals=5, verbose=1, max_time_in_seconds=1000)\n",
    "optimizer.optimize()\n",
    "optimizer.save_solution(dir=\"saved/test\")"
   ]
  },
  {
   "cell_type": "code",
   "execution_count": 3,
   "id": "33cf3a65",
   "metadata": {},
   "outputs": [
    {
     "name": "stderr",
     "output_type": "stream",
     "text": [
      "\u001b[1mDEBUG\u001b[0m :\t\u001b[32m=== Résultats des évaluations ===\u001b[39m\n",
      "\n",
      "\u001b[1mDEBUG\u001b[0m :\t\u001b[94mBest score : 26, total solution tested: 25\u001b[39m\n",
      "\n",
      "\u001b[1mDEBUG\u001b[0m :\t\u001b[34m=>coût=269,117,388 €:\u001b[39m\n",
      "\n",
      "\u001b[1mDEBUG\u001b[0m :\t\u001b[34m=>perte=142,733 m^3:\u001b[39m\n",
      "\n",
      "\u001b[1mDEBUG\u001b[0m :\t\u001b[34m=>wating_time=900s :\u001b[39m\n",
      "\n",
      "\u001b[1mDEBUG\u001b[0m :\t\u001b[34m=>underfill_rate=21.42% :\n",
      "\u001b[39m\n",
      "\n"
     ]
    },
    {
     "data": {
      "text/plain": [
       "number_of_storages                1\n",
       "number_of_ships                   1\n",
       "init1_destination                 0\n",
       "init2_destination                 0\n",
       "init3_destination                 0\n",
       "init4_destination                 0\n",
       "fixed1_storage_destination        0\n",
       "fixed2_storage_destination        0\n",
       "fixed3_storage_destination        0\n",
       "fixed4_storage_destination        0\n",
       "ship_capacity_max             20000\n",
       "ship_speed                       12\n",
       "ship1_used                        1\n",
       "ship2_used                        0\n",
       "ship3_used                        0\n",
       "ship4_used                        0\n",
       "ship_units                       20\n",
       "use_Bergen                        0\n",
       "use_Rotterdam                     1\n",
       "Name: 4, dtype: int64"
      ]
     },
     "metadata": {},
     "output_type": "display_data"
    }
   ],
   "source": [
    "optimizer.log_score()"
   ]
  },
  {
   "cell_type": "code",
   "execution_count": 4,
   "id": "5b28375c",
   "metadata": {},
   "outputs": [
    {
     "name": "stderr",
     "output_type": "stream",
     "text": [
      "\u001b[1mDEBUG\u001b[0m :\t\u001b[32m=== Evaluating scenario: \u001b[36m/Users/dorian/Documents/TNP/eco2-normandy/scenarios/al/phase3_rotterdam_18k_2boats - 3tanks.yaml\u001b[32m ===\u001b[39m\n",
      "\n",
      "\u001b[1mDEBUG\u001b[0m :\t\u001b[32m=== Evaluating scenario: \u001b[36m/Users/dorian/Documents/TNP/eco2-normandy/scenarios/al/phase3_rotterdam_18k_2boats - 5tanks.yaml\u001b[32m ===\u001b[39m\n",
      "\n",
      "\u001b[1mDEBUG\u001b[0m :\t\u001b[33m=== Limiting evaluation to 2 scenarios ===\u001b[39m\n",
      "\n"
     ]
    }
   ],
   "source": [
    "results = optimizer.evaluate_on_all_scenarios(limite=2)"
   ]
  },
  {
   "cell_type": "code",
   "execution_count": 5,
   "id": "e9fea209",
   "metadata": {},
   "outputs": [
    {
     "data": {
      "text/html": [
       "<div>\n",
       "<style scoped>\n",
       "    .dataframe tbody tr th:only-of-type {\n",
       "        vertical-align: middle;\n",
       "    }\n",
       "\n",
       "    .dataframe tbody tr th {\n",
       "        vertical-align: top;\n",
       "    }\n",
       "\n",
       "    .dataframe thead th {\n",
       "        text-align: right;\n",
       "    }\n",
       "</style>\n",
       "<table border=\"1\" class=\"dataframe\">\n",
       "  <thead>\n",
       "    <tr style=\"text-align: right;\">\n",
       "      <th></th>\n",
       "      <th>cost</th>\n",
       "      <th>wasted_production_over_time</th>\n",
       "      <th>waiting_time</th>\n",
       "      <th>underfill_rate</th>\n",
       "      <th>score</th>\n",
       "    </tr>\n",
       "  </thead>\n",
       "  <tbody>\n",
       "    <tr>\n",
       "      <th>phase3_rotterdam_18k_2boats - 3tanks.yaml</th>\n",
       "      <td>342413375.0</td>\n",
       "      <td>0.0</td>\n",
       "      <td>1166.0</td>\n",
       "      <td>0.937345</td>\n",
       "      <td>33.718175</td>\n",
       "    </tr>\n",
       "    <tr>\n",
       "      <th>phase3_rotterdam_18k_2boats - 5tanks.yaml</th>\n",
       "      <td>382685375.0</td>\n",
       "      <td>0.0</td>\n",
       "      <td>1160.0</td>\n",
       "      <td>0.959855</td>\n",
       "      <td>35.441096</td>\n",
       "    </tr>\n",
       "  </tbody>\n",
       "</table>\n",
       "</div>"
      ],
      "text/plain": [
       "                                                  cost  \\\n",
       "phase3_rotterdam_18k_2boats - 3tanks.yaml  342413375.0   \n",
       "phase3_rotterdam_18k_2boats - 5tanks.yaml  382685375.0   \n",
       "\n",
       "                                           wasted_production_over_time  \\\n",
       "phase3_rotterdam_18k_2boats - 3tanks.yaml                          0.0   \n",
       "phase3_rotterdam_18k_2boats - 5tanks.yaml                          0.0   \n",
       "\n",
       "                                           waiting_time  underfill_rate  \\\n",
       "phase3_rotterdam_18k_2boats - 3tanks.yaml        1166.0        0.937345   \n",
       "phase3_rotterdam_18k_2boats - 5tanks.yaml        1160.0        0.959855   \n",
       "\n",
       "                                               score  \n",
       "phase3_rotterdam_18k_2boats - 3tanks.yaml  33.718175  \n",
       "phase3_rotterdam_18k_2boats - 5tanks.yaml  35.441096  "
      ]
     },
     "execution_count": 5,
     "metadata": {},
     "output_type": "execute_result"
    }
   ],
   "source": [
    "results"
   ]
  },
  {
   "cell_type": "code",
   "execution_count": 6,
   "id": "cb33ed5b",
   "metadata": {},
   "outputs": [
    {
     "data": {
      "text/html": [
       "<div>\n",
       "<style scoped>\n",
       "    .dataframe tbody tr th:only-of-type {\n",
       "        vertical-align: middle;\n",
       "    }\n",
       "\n",
       "    .dataframe tbody tr th {\n",
       "        vertical-align: top;\n",
       "    }\n",
       "\n",
       "    .dataframe thead th {\n",
       "        text-align: right;\n",
       "    }\n",
       "</style>\n",
       "<table border=\"1\" class=\"dataframe\">\n",
       "  <thead>\n",
       "    <tr style=\"text-align: right;\">\n",
       "      <th></th>\n",
       "      <th>cost</th>\n",
       "      <th>wasted_production_over_time</th>\n",
       "      <th>waiting_time</th>\n",
       "      <th>underfill_rate</th>\n",
       "      <th>score</th>\n",
       "    </tr>\n",
       "    <tr>\n",
       "      <th>evals</th>\n",
       "      <th></th>\n",
       "      <th></th>\n",
       "      <th></th>\n",
       "      <th></th>\n",
       "      <th></th>\n",
       "    </tr>\n",
       "  </thead>\n",
       "  <tbody>\n",
       "    <tr>\n",
       "      <th>1</th>\n",
       "      <td>6.686679e+08</td>\n",
       "      <td>0.000000</td>\n",
       "      <td>2369.0</td>\n",
       "      <td>0.995154</td>\n",
       "      <td>1.337339e+10</td>\n",
       "    </tr>\n",
       "    <tr>\n",
       "      <th>2</th>\n",
       "      <td>5.324335e+08</td>\n",
       "      <td>0.000000</td>\n",
       "      <td>2301.0</td>\n",
       "      <td>0.995275</td>\n",
       "      <td>1.064870e+10</td>\n",
       "    </tr>\n",
       "    <tr>\n",
       "      <th>3</th>\n",
       "      <td>3.961498e+08</td>\n",
       "      <td>0.000000</td>\n",
       "      <td>2290.0</td>\n",
       "      <td>0.995298</td>\n",
       "      <td>NaN</td>\n",
       "    </tr>\n",
       "    <tr>\n",
       "      <th>4</th>\n",
       "      <td>2.691174e+08</td>\n",
       "      <td>142732.876712</td>\n",
       "      <td>900.0</td>\n",
       "      <td>0.214202</td>\n",
       "      <td>2.629071e+01</td>\n",
       "    </tr>\n",
       "    <tr>\n",
       "      <th>5</th>\n",
       "      <td>2.693961e+08</td>\n",
       "      <td>145609.589041</td>\n",
       "      <td>872.0</td>\n",
       "      <td>0.195727</td>\n",
       "      <td>2.694587e+01</td>\n",
       "    </tr>\n",
       "  </tbody>\n",
       "</table>\n",
       "</div>"
      ],
      "text/plain": [
       "               cost  wasted_production_over_time  waiting_time  \\\n",
       "evals                                                            \n",
       "1      6.686679e+08                     0.000000        2369.0   \n",
       "2      5.324335e+08                     0.000000        2301.0   \n",
       "3      3.961498e+08                     0.000000        2290.0   \n",
       "4      2.691174e+08                142732.876712         900.0   \n",
       "5      2.693961e+08                145609.589041         872.0   \n",
       "\n",
       "       underfill_rate         score  \n",
       "evals                                \n",
       "1            0.995154  1.337339e+10  \n",
       "2            0.995275  1.064870e+10  \n",
       "3            0.995298           NaN  \n",
       "4            0.214202  2.629071e+01  \n",
       "5            0.195727  2.694587e+01  "
      ]
     },
     "execution_count": 6,
     "metadata": {},
     "output_type": "execute_result"
    }
   ],
   "source": [
    "optimizer.model.scores # todo posible nan, a corrigé"
   ]
  },
  {
   "cell_type": "code",
   "execution_count": 7,
   "id": "66db03b0",
   "metadata": {},
   "outputs": [
    {
     "data": {
      "text/html": [
       "<div>\n",
       "<style scoped>\n",
       "    .dataframe tbody tr th:only-of-type {\n",
       "        vertical-align: middle;\n",
       "    }\n",
       "\n",
       "    .dataframe tbody tr th {\n",
       "        vertical-align: top;\n",
       "    }\n",
       "\n",
       "    .dataframe thead th {\n",
       "        text-align: right;\n",
       "    }\n",
       "</style>\n",
       "<table border=\"1\" class=\"dataframe\">\n",
       "  <thead>\n",
       "    <tr style=\"text-align: right;\">\n",
       "      <th></th>\n",
       "      <th>cost</th>\n",
       "      <th>wasted_production_over_time</th>\n",
       "      <th>waiting_time</th>\n",
       "      <th>underfill_rate</th>\n",
       "    </tr>\n",
       "  </thead>\n",
       "  <tbody>\n",
       "    <tr>\n",
       "      <th>1</th>\n",
       "      <td>6.686679e+08</td>\n",
       "      <td>0.000000</td>\n",
       "      <td>2369.000000</td>\n",
       "      <td>0.995154</td>\n",
       "    </tr>\n",
       "    <tr>\n",
       "      <th>2</th>\n",
       "      <td>5.324335e+08</td>\n",
       "      <td>0.000000</td>\n",
       "      <td>2301.000000</td>\n",
       "      <td>0.995275</td>\n",
       "    </tr>\n",
       "    <tr>\n",
       "      <th>3</th>\n",
       "      <td>2.500000e-01</td>\n",
       "      <td>0.000000</td>\n",
       "      <td>NaN</td>\n",
       "      <td>NaN</td>\n",
       "    </tr>\n",
       "    <tr>\n",
       "      <th>4</th>\n",
       "      <td>2.315854e-01</td>\n",
       "      <td>0.666667</td>\n",
       "      <td>0.245911</td>\n",
       "      <td>0.154567</td>\n",
       "    </tr>\n",
       "    <tr>\n",
       "      <th>5</th>\n",
       "      <td>2.003466e-01</td>\n",
       "      <td>0.778399</td>\n",
       "      <td>0.171026</td>\n",
       "      <td>0.160186</td>\n",
       "    </tr>\n",
       "  </tbody>\n",
       "</table>\n",
       "</div>"
      ],
      "text/plain": [
       "           cost  wasted_production_over_time  waiting_time  underfill_rate\n",
       "1  6.686679e+08                     0.000000   2369.000000        0.995154\n",
       "2  5.324335e+08                     0.000000   2301.000000        0.995275\n",
       "3  2.500000e-01                     0.000000           NaN             NaN\n",
       "4  2.315854e-01                     0.666667      0.245911        0.154567\n",
       "5  2.003466e-01                     0.778399      0.171026        0.160186"
      ]
     },
     "execution_count": 7,
     "metadata": {},
     "output_type": "execute_result"
    }
   ],
   "source": [
    "optimizer.model.callback.norm_metrics"
   ]
  },
  {
   "cell_type": "code",
   "execution_count": null,
   "id": "2a2a810c",
   "metadata": {},
   "outputs": [],
   "source": []
  },
  {
   "cell_type": "code",
   "execution_count": 8,
   "id": "f19b00eb",
   "metadata": {},
   "outputs": [
    {
     "name": "stdout",
     "output_type": "stream",
     "text": [
      "ok 2\n",
      "ok 3\n"
     ]
    }
   ],
   "source": [
    "class test:\n",
    "    def __init__(self):\n",
    "        pass\n",
    "    def ok(self, t:str=\"1\"):\n",
    "        print(\"ok \" + t)\n",
    "    \n",
    "class test2(test):\n",
    "    def __init__(self):\n",
    "        pass\n",
    "    def ___getattr__(self, name:str, arg):\n",
    "        return getattr(self, name)\n",
    "    \n",
    "t = test()\n",
    "t2 = test2()\n",
    "t.ok(\"2\")\n",
    "t2.ok(\"3\")"
   ]
  },
  {
   "cell_type": "code",
   "execution_count": null,
   "id": "2794083f",
   "metadata": {},
   "outputs": [],
   "source": []
  }
 ],
 "metadata": {
  "kernelspec": {
   "display_name": "eco2-normandy-CnALzcxs-py3.12",
   "language": "python",
   "name": "python3"
  },
  "language_info": {
   "codemirror_mode": {
    "name": "ipython",
    "version": 3
   },
   "file_extension": ".py",
   "mimetype": "text/x-python",
   "name": "python",
   "nbconvert_exporter": "python",
   "pygments_lexer": "ipython3",
   "version": "3.12.3"
  }
 },
 "nbformat": 4,
 "nbformat_minor": 5
}
